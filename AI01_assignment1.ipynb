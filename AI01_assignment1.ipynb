{
 "cells": [
  {
   "cell_type": "markdown",
   "metadata": {
    "toc": true
   },
   "source": [
    "<h1>Table of Contents<span class=\"tocSkip\"></span></h1>\n",
    "<div class=\"toc\"><ul class=\"toc-item\"><li><span><a href=\"#Build-an-Expert-System-(ES)-using-experta\" data-toc-modified-id=\"Build-an-Expert-System-(ES)-using-experta-1\"><span class=\"toc-item-num\">1&nbsp;&nbsp;</span>Build an Expert System (ES) using experta</a></span><ul class=\"toc-item\"><li><span><a href=\"#Submission\" data-toc-modified-id=\"Submission-1.1\"><span class=\"toc-item-num\">1.1&nbsp;&nbsp;</span>Submission</a></span></li><li><span><a href=\"#Background\" data-toc-modified-id=\"Background-1.2\"><span class=\"toc-item-num\">1.2&nbsp;&nbsp;</span>Background</a></span></li><li><span><a href=\"#Assignment\" data-toc-modified-id=\"Assignment-1.3\"><span class=\"toc-item-num\">1.3&nbsp;&nbsp;</span>Assignment</a></span></li><li><span><a href=\"#Getting-started\" data-toc-modified-id=\"Getting-started-1.4\"><span class=\"toc-item-num\">1.4&nbsp;&nbsp;</span>Getting started</a></span><ul class=\"toc-item\"><li><span><a href=\"#Python-classes-and-decorators\" data-toc-modified-id=\"Python-classes-and-decorators-1.4.1\"><span class=\"toc-item-num\">1.4.1&nbsp;&nbsp;</span>Python classes and decorators</a></span></li><li><span><a href=\"#The-first-example\" data-toc-modified-id=\"The-first-example-1.4.2\"><span class=\"toc-item-num\">1.4.2&nbsp;&nbsp;</span>The first example</a></span></li></ul></li><li><span><a href=\"#GitHub-Example\" data-toc-modified-id=\"GitHub-Example-1.5\"><span class=\"toc-item-num\">1.5&nbsp;&nbsp;</span>GitHub Example</a></span></li></ul></li><li><span><a href=\"#ES-Assignment\" data-toc-modified-id=\"ES-Assignment-2\"><span class=\"toc-item-num\">2&nbsp;&nbsp;</span>ES Assignment</a></span><ul class=\"toc-item\"><li><span><a href=\"#Question-1\" data-toc-modified-id=\"Question-1-2.1\"><span class=\"toc-item-num\">2.1&nbsp;&nbsp;</span>Question 1</a></span></li><li><span><a href=\"#Question-2\" data-toc-modified-id=\"Question-2-2.2\"><span class=\"toc-item-num\">2.2&nbsp;&nbsp;</span>Question 2</a></span><ul class=\"toc-item\"><li><span><a href=\"#Declarations\" data-toc-modified-id=\"Declarations-2.2.1\"><span class=\"toc-item-num\">2.2.1&nbsp;&nbsp;</span>Declarations</a></span></li></ul></li><li><span><a href=\"#Question-3\" data-toc-modified-id=\"Question-3-2.3\"><span class=\"toc-item-num\">2.3&nbsp;&nbsp;</span>Question 3</a></span><ul class=\"toc-item\"><li><span><a href=\"#Topic\" data-toc-modified-id=\"Topic-2.3.1\"><span class=\"toc-item-num\">2.3.1&nbsp;&nbsp;</span>Topic</a></span></li><li><span><a href=\"#Description\" data-toc-modified-id=\"Description-2.3.2\"><span class=\"toc-item-num\">2.3.2&nbsp;&nbsp;</span>Description</a></span></li></ul></li></ul></li></ul></div>"
   ]
  },
  {
   "cell_type": "markdown",
   "metadata": {},
   "source": []
  },
  {
   "cell_type": "markdown",
   "metadata": {
    "deletable": false,
    "editable": false,
    "run_control": {
     "frozen": true
    }
   },
   "source": [
    "# Build an Expert System (ES) using experta\n",
    "\n",
    "\n",
    "## Submission\n",
    "The assignment should be submitted as Python3 code and uploaded to Canvas. It is due by on October 3, 2019, at 14:30. The code will be tested and should produce results relatively well matching with reality.\n",
    "\n",
    "\n",
    "## Background\n",
    "[Experta](https://pypi.org/project/experta/) is a Python alternative to [CLIPS](http://www.clipsrules.net/). CLIPS is a tool/language for building ES still in use today. However, for you not to have to learn a new language for a single assignment, we stick with Python instead. Most of what you learn with experta should be transferrable to CLIPS.\n",
    "\n",
    "## Assignment\n",
    "\n",
    "1. Implement an ES that tells whether an animal is a bird, mammal, or unknown. It should require two percepts/declarations: ```cover``` and ```wings```. The former can take one of two values, \"fur\" or \"feathers\", and the latter True or False. Given the declarations ```cover``` = \"feathers\" and ```wings``` = True, it should print \"bird\". Similarly, given ```cover``` = \"fur\" and ```wings``` = True, it should print \"mammal\", since a bat has wing and is a mammal. For ```cover``` = \"feathers\" and ```wings``` = False it should print \"unknown\" (since I don't know of any wingless bird).\n",
    "\n",
    "2. Implement an ```AnimalIdentifier```. Given some suitable number of declarations, this ES should be able to classify an animal into the following categories: \"protozoa\" (a single cell animal), \"invertebrate\", \"fish\", \"bird\", \"mammal\" or \"unknown\".\n",
    "\n",
    "3. Implement an ES that can answer questions about a topic of your own interest. Include an explanation and description of its intended behavior as a comment.\n",
    "\n",
    "\n",
    "## Getting started\n",
    "Please take your time to look through the experta [examples](https://github.com/nilp0inter/experta/tree/develop/docs/examples) on GitHub.\n",
    "\n",
    "You can see what is available in experta by ```dir(experta)```. This will list all attributes of experta, i.e. the stuff you access by ```experta.<attribute>```.\n",
    "\n",
    "To learn more about a particular attribute use ```experta.<attribute>?```\n",
    "E.g.:\n",
    "```python\n",
    "    experta.KnowledgeEngine?\n",
    "```\n",
    "\n",
    "\n",
    "### Python classes and decorators\n",
    "If you have no previous experience with Python classes then the [Python documentation]( https://docs.python.org/3/tutorial/classes.html) may be helpful. Beyond that, there are plenty of tutorials on the web.\n",
    "\n",
    "\n",
    "To form rules (i.e. sentences in FOL), experta uses decorators (i.e. the @-syntax). See [here](https://stackoverflow.com/questions/6392739/what-does-the-at-symbol-do-in-python) for a quick intro, or [here](https://realpython.com/primer-on-python-decorators/) for a more in-depth explanation.\n",
    "\n",
    "\n",
    "### The first example\n",
    "Let's look at the first example in the [experta documentation](https://github.com/nilp0inter/experta).\n",
    "\n",
    "```python\n",
    "    from random import choice\n",
    "    from experta import Fact, KnowledgeEngine\n",
    "\n",
    "\n",
    "    class Light(Fact):\n",
    "        \"\"\"Info about the traffic light.\"\"\"\n",
    "        pass\n",
    "\n",
    "\n",
    "    class RobotCrossStreet(KnowledgeEngine):\n",
    "        @Rule(Light(color='green'))\n",
    "        def green_light(self):\n",
    "            print(\"Walk\")\n",
    "\n",
    "        @Rule(Light(color='red'))\n",
    "        def red_light(self):\n",
    "            print(\"Don't walk\")\n",
    "\n",
    "        @Rule(AS.light << Light(color=L('yellow') | L('blinking-yellow')))\n",
    "        def cautious(self, light):\n",
    "            print(\"Be cautious because light is\", light[\"color\"])\n",
    "```\n",
    "\n",
    "\n",
    "\n",
    "In the class ```RobotCrossStreet```, the rules (```@Rule```) are essentially FOL sentences. For example,\n",
    "```python\n",
    "    @Rule(Light(color='green'))\n",
    "    def green_light(self):\n",
    "        print(\"Walk\")\n",
    "```\n",
    "can be read as follows:\n",
    "\n",
    "$Light(green)\\rightarrow Walk$\n",
    "\n",
    "or \"if the light is green, then walk\" (or rather, print the string 'Walk').\n",
    "\n",
    "The third rule does two things:\n",
    "```python\n",
    "    @Rule(AS.light << Light(color=L('yellow') | L('blinking-yellow')))\n",
    "    def cautious(self, light):\n",
    "        print(\"Be cautious because light is\", light[\"color\"])\n",
    "```\n",
    "First it says\n",
    "\"if the light is yellow or blinking-yellow, then be cautious\"\n",
    "\n",
    "or,\n",
    "\n",
    "$Light(yellow) \\vee Light(blinking-yellow)\\rightarrow BeCatious$.\n",
    "\n",
    "\n",
    "Second, the ```AS.light << ...``` binds the value of ```color``` (i.e. 'yellow' or 'blinkingyellow') to ```light``` so that the value of ```color``` can be accessed by ```light[\"color\"]```.\n",
    "\n",
    "\n",
    "To use ```RobotCrossStreet``` we run the following:\n",
    "```python\n",
    "engine = RobotCrossStreet()   # instantiates the class\n",
    "engine.reset()                # resets to default values (if any)\n",
    "\n",
    "# randomly pick a color from the list\n",
    "light_color = choice(['green', 'yellow', 'blinking-yellow', 'red'])\n",
    "\n",
    "# give this light color as input to the engine (the instantiation of RobotCrossStreet).\n",
    "# This would be equivalent to TELL(KB, MAKE-PERCEPT-SENTENCE(percept)) in Fig 7.1 (AIMA or class slides), where 'declare()' is TELL, 'Light()' is MAKE-PERCEPT-SENTENCE and 'light_color' is percept.\n",
    "engine.declare(Light(color=light_color))  \n",
    "engine.run() # This is equivalent to ASK(KB, ...).\n",
    "```\n",
    "\n",
    "**Good luck!**"
   ]
  },
  {
   "cell_type": "markdown",
   "metadata": {},
   "source": [
    "## GitHub Example\n",
    "PyKnow: Expert Systems for Python"
   ]
  },
  {
   "cell_type": "code",
   "execution_count": 1,
   "metadata": {
    "ExecuteTime": {
     "end_time": "2019-10-03T01:14:11.209703Z",
     "start_time": "2019-10-03T01:14:11.163827Z"
    }
   },
   "outputs": [],
   "source": [
    "from random import choice\n",
    "from experta import *\n",
    "\n",
    "\n",
    "class Light(Fact):\n",
    "    \"\"\"Info about the traffic light.\"\"\"\n",
    "    pass\n",
    "\n",
    "\n",
    "class RobotCrossStreet(KnowledgeEngine):\n",
    "    @Rule(Light(color='green'))\n",
    "    def green_light(self):\n",
    "        print(\"Walk\")\n",
    "\n",
    "    @Rule(Light(color='red'))\n",
    "    def red_light(self):\n",
    "        print(\"Don't walk\")\n",
    "\n",
    "    @Rule(AS.light << Light(color=L('yellow') | L('blinking-yellow')))\n",
    "    def cautious(self, light):\n",
    "        print(\"Be cautious because light is\", light[\"color\"])"
   ]
  },
  {
   "cell_type": "code",
   "execution_count": 2,
   "metadata": {
    "ExecuteTime": {
     "end_time": "2019-10-03T01:14:11.239626Z",
     "start_time": "2019-10-03T01:14:11.213695Z"
    }
   },
   "outputs": [
    {
     "name": "stdout",
     "output_type": "stream",
     "text": [
      "Don't walk\n"
     ]
    }
   ],
   "source": [
    "engine = RobotCrossStreet()\n",
    "engine.reset()\n",
    "engine.declare(Light(color=choice(['green', 'yellow', 'blinking-yellow', 'red'])))\n",
    "engine.run()"
   ]
  },
  {
   "cell_type": "markdown",
   "metadata": {},
   "source": [
    "# ES Assignment"
   ]
  },
  {
   "cell_type": "markdown",
   "metadata": {},
   "source": [
    "## Question 1\n",
    "Implement an ES that tells whether an animal is a bird, mammal, or unknown. It should require two percepts/declarations: ```cover``` and ```wings```. The former can take one of two values, \"fur\" or \"feathers\", and the latter True or False. Given the declarations ```cover``` = \"feathers\" and ```wings``` = True, it should print \"bird\". Similarly, given ```cover``` = \"fur\" and ```wings``` = True, it should print \"mammal\", since a bat has wing and is a mammal. For ```cover``` = \"feathers\" and ```wings``` = False it should print \"unknown\" (since I don't know of any wingless bird)."
   ]
  },
  {
   "cell_type": "code",
   "execution_count": 3,
   "metadata": {
    "ExecuteTime": {
     "end_time": "2019-10-03T01:14:11.890082Z",
     "start_time": "2019-10-03T01:14:11.882099Z"
    }
   },
   "outputs": [],
   "source": [
    "from random import choice\n",
    "from experta import *\n",
    "\n",
    "\n",
    "class Animal1(Fact):\n",
    "    pass\n",
    "\n",
    "\n",
    "class AnimalIdentifier_1(KnowledgeEngine):\n",
    "    @Rule(Animal1(cover='feathers', wings=True))\n",
    "    def bird(self):\n",
    "        print('Bird')\n",
    "\n",
    "    @Rule(Animal1(cover='fur', wings=True))\n",
    "    def mammal(self):\n",
    "        print('Mammal')\n",
    "\n",
    "    @Rule(Animal1(wings=False))\n",
    "    def unknown(self):\n",
    "        print('Unknown')"
   ]
  },
  {
   "cell_type": "code",
   "execution_count": 4,
   "metadata": {
    "ExecuteTime": {
     "end_time": "2019-10-03T01:14:11.907032Z",
     "start_time": "2019-10-03T01:14:11.894069Z"
    }
   },
   "outputs": [
    {
     "name": "stdout",
     "output_type": "stream",
     "text": [
      "Bird\n"
     ]
    }
   ],
   "source": [
    "engine = AnimalIdentifier_1()\n",
    "engine.reset()\n",
    "engine.declare(\n",
    "    Animal1(cover=choice(['feathers', 'fur']), wings=choice([True, False])))\n",
    "engine.run()"
   ]
  },
  {
   "cell_type": "code",
   "execution_count": 5,
   "metadata": {
    "ExecuteTime": {
     "end_time": "2019-10-03T01:14:11.924984Z",
     "start_time": "2019-10-03T01:14:11.912020Z"
    }
   },
   "outputs": [
    {
     "name": "stdout",
     "output_type": "stream",
     "text": [
      "Mammal\n"
     ]
    }
   ],
   "source": [
    "# A function to input your test values\n",
    "\n",
    "\n",
    "def TestAnimalIdentifier(c, w):\n",
    "    engine = AnimalIdentifier_1()\n",
    "    engine.reset()\n",
    "    engine.declare(Animal1(cover=c, wings=w))\n",
    "    engine.run()\n",
    "\n",
    "\n",
    "# change to input your values\n",
    "TestAnimalIdentifier('fur', True)"
   ]
  },
  {
   "cell_type": "markdown",
   "metadata": {
    "deletable": false,
    "editable": false,
    "run_control": {
     "frozen": true
    }
   },
   "source": [
    "## Question 2\n",
    "Implement an ```AnimalIdentifier```. Given some suitable number of declarations, this ES should be able to classify an animal into the following categories: \"protozoa\" (a single cell animal), \"invertebrate\", \"fish\", \"bird\", \"mammal\" or \"unknown\"."
   ]
  },
  {
   "cell_type": "markdown",
   "metadata": {},
   "source": [
    "### Declarations\n",
    "```observable```: False for protozoa, True for others\\\n",
    "```vertebrate```: False for protozoa & invertebrate, True for others\\\n",
    "```gill```: True for fish, False for others\\\n",
    "```cover``` = \"feathers\" for bird\\\n",
    "```cover``` = \"fur\" for mammal"
   ]
  },
  {
   "cell_type": "code",
   "execution_count": 6,
   "metadata": {
    "ExecuteTime": {
     "end_time": "2019-10-03T01:14:12.655544Z",
     "start_time": "2019-10-03T01:14:12.638592Z"
    }
   },
   "outputs": [],
   "source": [
    "from random import choice\n",
    "from experta import *\n",
    "\n",
    "\n",
    "class Animal(Fact):\n",
    "    pass\n",
    "\n",
    "\n",
    "class AnimalIdentifier(KnowledgeEngine):\n",
    "    @Rule(Animal(observable=False, vertebrate=False, gill=False, cover='na'))\n",
    "    def protozoa(self):\n",
    "        print('Protozoa')\n",
    "\n",
    "    @Rule(Animal(observable=True, vertebrate=False, gill=False, cover='na'))\n",
    "    def invertebrate(self):\n",
    "        print('Invertebrate')\n",
    "\n",
    "    @Rule(Animal(observable=True, vertebrate=True, gill=True, cover='na'))\n",
    "    def fish(self):\n",
    "        print('Fish')\n",
    "\n",
    "    @Rule(Animal(observable=True, vertebrate=True, gill=False, cover='feathers'))\n",
    "    def bird(self):\n",
    "        print('Bird')\n",
    "\n",
    "    @Rule(Animal(observable=True, vertebrate=True, gill=False, cover='fur'))\n",
    "    def mammal(self):\n",
    "        print('Mammal')\n",
    "\n",
    "    @Rule(NOT(Animal(observable=False, vertebrate=False, gill=False, cover='na')),  # not protozoa\n",
    "              NOT(Animal(observable=True, vertebrate=False, gill=False, cover='na')),  # not invertebrate\n",
    "              NOT(Animal(observable=True, vertebrate=True, gill=True, cover='na')), # not fish\n",
    "              NOT(Animal(observable=True, vertebrate=True, gill=False, cover='feathers')), # not bird\n",
    "              NOT(Animal(observable=True, vertebrate=True, gill=False, cover='fur'))) # not mammal\n",
    "    def unknown(self):\n",
    "        print('Unknown')"
   ]
  },
  {
   "cell_type": "code",
   "execution_count": 7,
   "metadata": {
    "ExecuteTime": {
     "end_time": "2019-10-03T01:14:12.674493Z",
     "start_time": "2019-10-03T01:14:12.659533Z"
    }
   },
   "outputs": [
    {
     "name": "stdout",
     "output_type": "stream",
     "text": [
      "Bird\n"
     ]
    }
   ],
   "source": [
    "engine = AnimalIdentifier()\n",
    "engine.reset()\n",
    "engine.declare(Animal(\n",
    "    observable=choice([True, False]),\n",
    "    vertebrate=choice([True, False]),\n",
    "    gill=choice([True, False]),\n",
    "    cover=choice(['feathers', 'fur', 'na'])))\n",
    "engine.run()"
   ]
  },
  {
   "cell_type": "code",
   "execution_count": 8,
   "metadata": {
    "ExecuteTime": {
     "end_time": "2019-10-03T01:14:12.694439Z",
     "start_time": "2019-10-03T01:14:12.678483Z"
    }
   },
   "outputs": [
    {
     "name": "stdout",
     "output_type": "stream",
     "text": [
      "Mammal\n"
     ]
    }
   ],
   "source": [
    "# A function to input your test values\n",
    "\n",
    "\n",
    "def Test2AnimalIdentifier(o, v, g, c):\n",
    "    engine = AnimalIdentifier()\n",
    "    engine.reset()\n",
    "    engine.declare(Animal(observable=o, vertebrate=v,\n",
    "                          gill=g, cover=c))\n",
    "    engine.run()\n",
    "\n",
    "\n",
    "# change to input your values\n",
    "Test2AnimalIdentifier(True, True, False, 'fur')"
   ]
  },
  {
   "cell_type": "markdown",
   "metadata": {},
   "source": [
    "## Question 3\n",
    "Implement an ES that can answer questions about a topic of your own interest. Include an explanation and description of its intended behavior as a comment."
   ]
  },
  {
   "cell_type": "markdown",
   "metadata": {},
   "source": [
    "### Topic\n",
    "\\textbf{Identify categories of laptops in the market}\\\n",
    "Laptops are to be classified into 4 categories:\\\n",
    "Ultrabook\\\n",
    "Gaming Laptop\\\n",
    "Traditional Laptop\\\n",
    "Uncategorized Laptop"
   ]
  },
  {
   "cell_type": "markdown",
   "metadata": {},
   "source": [
    "### Description\n",
    "There are X declarations:\\\n",
    "```weight``` in kg: '<1.5', '1.5-2.5', '>2.5'\\\n",
    "```thin``` True or Flase: whether the laptop is thinner than 1.5cm (I used Apple MacBook Pro 1.49cm as the benchmark)\\\n",
    "```small_screen``` True or false: whether the laptop has a screen size less than 14 inches\\\n",
    "```GPU``` scores: '<500', '500-800', '>800' (source: https://novabench.com/parts/gpu) \\\n",
    "\n",
    "\\textbf{Ultrabooks} are less than 1.5kg, thin, have small screens of less than 14 inches and GPU score less than 500 (usually Intel Graphics).\\\n",
    "\\textbf{Gaming} laptops are heavier than 2.5kg, thick, have larger screens (15-17 inches) and high GPU scores over 800.\\\n",
    "\\textbf{Traditional} laptops are not too light nor too heavy (1.5-2.5kg), not thin either. The screen sizes range from 13 to 17 inches. GPUs are less than 800 in scores.\\\n",
    "The others are \\textbf{Uncategorized}. "
   ]
  },
  {
   "cell_type": "code",
   "execution_count": 9,
   "metadata": {
    "ExecuteTime": {
     "end_time": "2019-10-03T01:14:13.683500Z",
     "start_time": "2019-10-03T01:14:13.671529Z"
    }
   },
   "outputs": [],
   "source": [
    "from random import choice\n",
    "from experta import *\n",
    "\n",
    "\n",
    "class Laptop(Fact):\n",
    "    pass\n",
    "\n",
    "\n",
    "class LaptopIdentifier(KnowledgeEngine):\n",
    "    @Rule(Laptop(weight='<1.5', thin=True, small_screen=True, GPU='<500'))\n",
    "    def ultrabook(self):\n",
    "        print('Ultrabook')\n",
    "\n",
    "    @Rule(Laptop(weight='>2.5', thin=False, small_screen=False, GPU='>800'))\n",
    "    def gaming(self):\n",
    "        print('Gaming Laptop')\n",
    "\n",
    "    @Rule(Laptop(weight='1.5-2.5', thin=False, small_screen=L(True) | L(False), GPU=L('<500') | L('500-800')))\n",
    "    def traditional(self):\n",
    "        print('Traditional Laptop')\n",
    "\n",
    "    @Rule(NOT(Laptop(weight='<1.5', thin=True, small_screen=True, GPU='<500')), # not ultrabook\n",
    "              NOT(Laptop(weight='>2.5', thin=False, small_screen=False, GPU='>800')), # not gaming\n",
    "              NOT(Laptop(weight='1.5-2.5', thin=False, small_screen=L(True) | L(False), GPU=L('<500') | L('500-800')))) # not traditional\n",
    "    def uncategorized(self):\n",
    "        print('Uncategorized Laptop')"
   ]
  },
  {
   "cell_type": "code",
   "execution_count": 10,
   "metadata": {
    "ExecuteTime": {
     "end_time": "2019-10-03T01:14:13.704438Z",
     "start_time": "2019-10-03T01:14:13.687482Z"
    }
   },
   "outputs": [
    {
     "name": "stdout",
     "output_type": "stream",
     "text": [
      "Uncategorized Laptop\n"
     ]
    }
   ],
   "source": [
    "engine = LaptopIdentifier()\n",
    "engine.reset()\n",
    "engine.declare(Laptop(weight=choice([ '<1.5', '1.5-2.5', '>2.5']),\n",
    "                      thin=choice([True, False]),\n",
    "                      small_screen=choice([True, False]),\n",
    "                      GPU=choice(['<500', '500-800', '>800'])))\n",
    "engine.run()"
   ]
  },
  {
   "cell_type": "code",
   "execution_count": 11,
   "metadata": {
    "ExecuteTime": {
     "end_time": "2019-10-03T01:14:13.721390Z",
     "start_time": "2019-10-03T01:14:13.709423Z"
    }
   },
   "outputs": [
    {
     "name": "stdout",
     "output_type": "stream",
     "text": [
      "Gaming Laptop\n"
     ]
    }
   ],
   "source": [
    "def Test1LaptopIdentifier(w,t,s,g):\n",
    "    engine = LaptopIdentifier()\n",
    "    engine.reset()\n",
    "    engine.declare(Laptop(weight=w, thin=t,\n",
    "                          small_screen=s, GPU=g))\n",
    "    engine.run()\n",
    "\n",
    "\n",
    "# input value\n",
    "Test1LaptopIdentifier('>2.5', False, False, '>800')"
   ]
  },
  {
   "cell_type": "code",
   "execution_count": null,
   "metadata": {},
   "outputs": [],
   "source": []
  },
  {
   "cell_type": "code",
   "execution_count": null,
   "metadata": {},
   "outputs": [],
   "source": []
  }
 ],
 "metadata": {
  "kernelspec": {
   "display_name": "Python 3",
   "language": "python",
   "name": "python3"
  },
  "language_info": {
   "codemirror_mode": {
    "name": "ipython",
    "version": 3
   },
   "file_extension": ".py",
   "mimetype": "text/x-python",
   "name": "python",
   "nbconvert_exporter": "python",
   "pygments_lexer": "ipython3",
   "version": "3.7.5"
  },
  "latex_envs": {
   "LaTeX_envs_menu_present": true,
   "autoclose": false,
   "autocomplete": true,
   "bibliofile": "biblio.bib",
   "cite_by": "apalike",
   "current_citInitial": 1,
   "eqLabelWithNumbers": true,
   "eqNumInitial": 1,
   "hotkeys": {
    "equation": "Ctrl-E",
    "itemize": "Ctrl-I"
   },
   "labels_anchors": false,
   "latex_user_defs": false,
   "report_style_numbering": false,
   "user_envs_cfg": false
  },
  "toc": {
   "base_numbering": 1,
   "nav_menu": {},
   "number_sections": true,
   "sideBar": true,
   "skip_h1_title": false,
   "title_cell": "Table of Contents",
   "title_sidebar": "Contents",
   "toc_cell": true,
   "toc_position": {
    "height": "calc(100% - 180px)",
    "left": "10px",
    "top": "150px",
    "width": "272px"
   },
   "toc_section_display": true,
   "toc_window_display": true
  },
  "varInspector": {
   "cols": {
    "lenName": 16,
    "lenType": 16,
    "lenVar": 40
   },
   "kernels_config": {
    "python": {
     "delete_cmd_postfix": "",
     "delete_cmd_prefix": "del ",
     "library": "var_list.py",
     "varRefreshCmd": "print(var_dic_list())"
    },
    "r": {
     "delete_cmd_postfix": ") ",
     "delete_cmd_prefix": "rm(",
     "library": "var_list.r",
     "varRefreshCmd": "cat(var_dic_list()) "
    }
   },
   "types_to_exclude": [
    "module",
    "function",
    "builtin_function_or_method",
    "instance",
    "_Feature"
   ],
   "window_display": false
  }
 },
 "nbformat": 4,
 "nbformat_minor": 2
}
