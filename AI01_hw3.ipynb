{
 "cells": [
  {
   "cell_type": "markdown",
   "metadata": {
    "toc": true
   },
   "source": [
    "<h1>Table of Contents<span class=\"tocSkip\"></span></h1>\n",
    "<div class=\"toc\"><ul class=\"toc-item\"></ul></div>"
   ]
  },
  {
   "cell_type": "code",
   "execution_count": 1,
   "metadata": {
    "ExecuteTime": {
     "end_time": "2019-12-04T17:52:35.930723Z",
     "start_time": "2019-12-04T17:51:24.437831Z"
    }
   },
   "outputs": [
    {
     "name": "stdout",
     "output_type": "stream",
     "text": [
      "WARNING:tensorflow:From C:\\Users\\zhfen\\Anaconda3\\lib\\site-packages\\tensorflow\\python\\compat\\v2_compat.py:65: disable_resource_variables (from tensorflow.python.ops.variable_scope) is deprecated and will be removed in a future version.\n",
      "Instructions for updating:\n",
      "non-resource variables are not supported in the long term\n",
      "WARNING:tensorflow:From C:\\Users\\zhfen\\Desktop\\Python\\AI1_hw\\encoder.py:63: calling l2_normalize (from tensorflow.python.ops.nn_impl) with dim is deprecated and will be removed in a future version.\n",
      "Instructions for updating:\n",
      "dim is deprecated, use axis instead\n",
      "\n",
      "Search tag: @HarvardBiz\n",
      "\n",
      "0 What Happens When Antitrust and Protectionism Cycles Collide HarvardBiz\n",
      "0 RT HarvardBiz Would you rather be happy in your life or happy about your life\n",
      "1 RT YoungWomeninLaw How to Recruit More Women to Your Company via HarvardBiz\n",
      "1 RT HarvardBiz Having knowledge of more than one culture can help companies think outside the box\n",
      "0 RT HarvardBiz The antitrust and protectionist cycles usually alternate But right now theyre occurring simultaneously\n",
      "1 RT HarvardBiz Flexibility is not about working less Its about working differently\n",
      "1 RT HarvardBiz A transformation wont succeed without broad involvement from individuals at all levels of the organization\n",
      "1 RT HarvardBiz An important part of making machine learning work in health care is making it easy for people to act on the insights gleane\n",
      "1 What ML will mean for asset managers by harvardbiz\n",
      "0 RT HarvardBiz There may be risks to knowing too much about how your organization functions\n"
     ]
    }
   ],
   "source": [
    "import warnings\n",
    "warnings.filterwarnings('ignore')\n",
    "\n",
    "from joblib import load\n",
    "from encoder import Model\n",
    "clf = load('logregress_clf.joblib')\n",
    "model = Model()\n",
    "\n",
    "import pandas as pd\n",
    "import tweepy as tw\n",
    "import re\n",
    "\n",
    "# Authenticate to Twitter\n",
    "consumer_key = \"1KbEaA98iLFrLI68cWwZBojKa\"\n",
    "consumer_secret = \"UMuEh1JiSu8mVtOpWnDKatg2tXCEf3RGrOyUNBPfC0NgPgUVz0\"\n",
    "access_token = \"786958989347033088-k12TcKdTNLTcr16b9W2eAioz07eAwu1\"\n",
    "access_token_secret = \"3sU3lCoT6b6Y1Gf1DZPENCaYbbd5B18Dkp8iSYNuLWCSV\"\n",
    "\n",
    "auth = tw.OAuthHandler(consumer_key, consumer_secret)\n",
    "auth.set_access_token(access_token, access_token_secret)\n",
    "api = tw.API(auth)\n",
    "\n",
    "tag = \"@HarvardBiz\"\n",
    "\n",
    "tweets = api.search(q=tag, lang=\"en\", count=10)\n",
    "# tweets_text = [tweet.text for tweet in tweets]\n",
    "\n",
    "def remove_url(txt):\n",
    "    return \" \".join(re.sub(\"([^0-9A-Za-z \\t])|(\\w+:\\/\\/\\S+)\", \"\", txt).split())\n",
    "\n",
    "clean_tweets = [remove_url(tweet.text) for tweet in tweets]\n",
    "\n",
    "tw_transfrom = model.transform(clean_tweets)\n",
    "predictions = clf.predict(tw_transfrom)\n",
    "\n",
    "print()\n",
    "print(\"Search tag:\", tag)\n",
    "print()\n",
    "for i in range(0, 10):\n",
    "    tw1 = clean_tweets[i]\n",
    "    sa = predictions[i]\n",
    "    print(sa, tw1)"
   ]
  }
 ],
 "metadata": {
  "kernelspec": {
   "display_name": "Python 3",
   "language": "python",
   "name": "python3"
  },
  "language_info": {
   "codemirror_mode": {
    "name": "ipython",
    "version": 3
   },
   "file_extension": ".py",
   "mimetype": "text/x-python",
   "name": "python",
   "nbconvert_exporter": "python",
   "pygments_lexer": "ipython3",
   "version": "3.7.5"
  },
  "latex_envs": {
   "LaTeX_envs_menu_present": true,
   "autoclose": false,
   "autocomplete": true,
   "bibliofile": "biblio.bib",
   "cite_by": "apalike",
   "current_citInitial": 1,
   "eqLabelWithNumbers": true,
   "eqNumInitial": 1,
   "hotkeys": {
    "equation": "Ctrl-E",
    "itemize": "Ctrl-I"
   },
   "labels_anchors": false,
   "latex_user_defs": false,
   "report_style_numbering": false,
   "user_envs_cfg": false
  },
  "toc": {
   "base_numbering": 1,
   "nav_menu": {},
   "number_sections": true,
   "sideBar": true,
   "skip_h1_title": false,
   "title_cell": "Table of Contents",
   "title_sidebar": "Contents",
   "toc_cell": true,
   "toc_position": {},
   "toc_section_display": true,
   "toc_window_display": false
  },
  "varInspector": {
   "cols": {
    "lenName": 16,
    "lenType": 16,
    "lenVar": 40
   },
   "kernels_config": {
    "python": {
     "delete_cmd_postfix": "",
     "delete_cmd_prefix": "del ",
     "library": "var_list.py",
     "varRefreshCmd": "print(var_dic_list())"
    },
    "r": {
     "delete_cmd_postfix": ") ",
     "delete_cmd_prefix": "rm(",
     "library": "var_list.r",
     "varRefreshCmd": "cat(var_dic_list()) "
    }
   },
   "types_to_exclude": [
    "module",
    "function",
    "builtin_function_or_method",
    "instance",
    "_Feature"
   ],
   "window_display": false
  }
 },
 "nbformat": 4,
 "nbformat_minor": 2
}
